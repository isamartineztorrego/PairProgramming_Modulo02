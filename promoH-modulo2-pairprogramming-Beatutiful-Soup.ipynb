{
 "cells": [
  {
   "cell_type": "markdown",
   "metadata": {},
   "source": [
    "## Pair Programming Beautiful Soup"
   ]
  },
  {
   "cell_type": "markdown",
   "metadata": {},
   "source": [
    "Enunciado: Escribe una función llamada `scrape_coches_ocasion` que acepta una URL como argumento y devuelve un DataFrame de pandas con información sobre coches de ocasión encontrados en la página web especificada. La función realizará las siguientes tareas:\n",
    "\n",
    "1. Realizará una solicitud HTTP GET a la siguiente url.\n",
    "\n",
    "2. Comprobará el código de estado de la respuesta. Si el código no es 200 (OK), imprimirá un mensaje de error y retornará `None`.\n",
    "\n",
    "3. Extraerá los nombres de los coches, los precios rebajados, los precios originales y la información de los kilómetros recorridos de la página.\n",
    "\n",
    "4. Organizará los datos extraídos en un DataFrame de pandas con las siguientes columnas:\n",
    "\n",
    "- \"coche\": Nombres de los coches.\n",
    "\n",
    "- \"precio_rebajado\": Precios rebajados.\n",
    "\n",
    "- \"precio_original\": Precios originales.\n",
    "\n",
    "- \"km\": Kilómetros recorridos.\n",
    "\n",
    "5. Retornará el DataFrame resultante.\n",
    "\n",
    "6. Una vez extraida toda la información deberéis almacenar toda la información en un DataFrame."
   ]
  },
  {
   "cell_type": "code",
   "execution_count": 2,
   "metadata": {},
   "outputs": [
    {
     "name": "stdout",
     "output_type": "stream",
     "text": [
      "Requirement already satisfied: beautifulsoup4 in /home/admin_diana/anaconda3/lib/python3.9/site-packages (4.10.0)\n",
      "Requirement already satisfied: soupsieve>1.2 in /home/admin_diana/anaconda3/lib/python3.9/site-packages (from beautifulsoup4) (2.2.1)\n"
     ]
    }
   ],
   "source": [
    "!pip install beautifulsoup4"
   ]
  },
  {
   "cell_type": "code",
   "execution_count": 3,
   "metadata": {},
   "outputs": [],
   "source": [
    "from bs4 import BeautifulSoup\n",
    "import requests\n",
    "import pandas as pd\n",
    "import re"
   ]
  },
  {
   "cell_type": "code",
   "execution_count": 4,
   "metadata": {},
   "outputs": [
    {
     "data": {
      "text/plain": [
       "200"
      ]
     },
     "execution_count": 4,
     "metadata": {},
     "output_type": "execute_result"
    }
   ],
   "source": [
    "url_coches='https://www.ocasionplus.com/coches-ocasion/v2?orderBy=morePopular'\n",
    "respuesta_coches=requests.get(url_coches)\n",
    "respuesta_coches.status_code"
   ]
  },
  {
   "cell_type": "code",
   "execution_count": 5,
   "metadata": {},
   "outputs": [],
   "source": [
    "#1. Creo la sopa\n",
    "sopa_coches=BeautifulSoup(respuesta_coches.content, 'html.parser')"
   ]
  },
  {
   "cell_type": "code",
   "execution_count": 196,
   "metadata": {},
   "outputs": [
    {
     "data": {
      "text/plain": [
       "[<h2 class=\"cardVehicle_column_text__EvQkB\"><span class=\"cardVehicle_spot__e6YZx\" data-test=\"span-brand-model\">SsangYong Korando</span><span class=\"cardVehicle_finance__SG6JV\" data-test=\"span-version\">D22T Line 4x2 131 kW (178 CV)</span></h2>,\n",
       " <h2 class=\"cardVehicle_column_text__EvQkB\"><span class=\"cardVehicle_spot__e6YZx\" data-test=\"span-brand-model\">Volkswagen Tiguan</span><span class=\"cardVehicle_finance__SG6JV\" data-test=\"span-version\">2.0 TDI BMT DSG 4X4 AUTO (140 CV)</span></h2>,\n",
       " <h2 class=\"cardVehicle_column_text__EvQkB\"><span class=\"cardVehicle_spot__e6YZx\" data-test=\"span-brand-model\">Audi A6</span><span class=\"cardVehicle_finance__SG6JV\" data-test=\"span-version\">2.0 TDI S tronic AUTO (190 CV) Pack S line</span></h2>,\n",
       " <h2 class=\"cardVehicle_column_text__EvQkB\"><span class=\"cardVehicle_spot__e6YZx\" data-test=\"span-brand-model\">Skoda Octavia</span><span class=\"cardVehicle_finance__SG6JV\" data-test=\"span-version\">1.5 TSI Ambition (150 CV)</span></h2>]"
      ]
     },
     "execution_count": 196,
     "metadata": {},
     "output_type": "execute_result"
    }
   ],
   "source": [
    "#2. En la sopa, localiza la etiqueta que contiene los nombres\n",
    "lista_nombres=sopa_coches.find_all('h2', {'class':'cardVehicle_column_text__EvQkB'})\n",
    "lista_nombres[:4]"
   ]
  },
  {
   "cell_type": "code",
   "execution_count": 197,
   "metadata": {},
   "outputs": [
    {
     "data": {
      "text/plain": [
       "['SsangYong KorandoD22T Line 4x2 131 kW (178 CV)',\n",
       " 'Volkswagen Tiguan2.0 TDI BMT DSG 4X4 AUTO (140 CV)',\n",
       " 'Audi A62.0 TDI S tronic AUTO (190 CV) Pack S line',\n",
       " 'Skoda Octavia1.5 TSI Ambition (150 CV)']"
      ]
     },
     "execution_count": 197,
     "metadata": {},
     "output_type": "execute_result"
    }
   ],
   "source": [
    "#3. En las etiquetas, extrae sólo la parte que me interesa, la que tiene el nombre del coche\n",
    "nombres=[]\n",
    "for i in lista_nombres:\n",
    "    nombres.append(i.text)\n",
    "nombres[:4]"
   ]
  },
  {
   "cell_type": "markdown",
   "metadata": {},
   "source": [
    "Repito pasos 2 y 3 para cada variable (precios rebajados, precios originales y km)"
   ]
  },
  {
   "cell_type": "code",
   "execution_count": 198,
   "metadata": {},
   "outputs": [
    {
     "data": {
      "text/plain": [
       "[<span class=\"cardVehicle_finance__SG6JV\" data-test=\"span-finance\">12.636€</span>,\n",
       " <span class=\"cardVehicle_finance__SG6JV\" data-test=\"span-finance\">19.450€</span>]"
      ]
     },
     "execution_count": 198,
     "metadata": {},
     "output_type": "execute_result"
    }
   ],
   "source": [
    "#2. En la sopa, localiza la etiqueta que contiene los precios rebajados\n",
    "lista_precios_rebajados=sopa_coches.find_all('span', {'data-test':'span-finance'})\n",
    "lista_precios_rebajados[:2]"
   ]
  },
  {
   "cell_type": "code",
   "execution_count": 199,
   "metadata": {},
   "outputs": [
    {
     "data": {
      "text/plain": [
       "['12.636€', '19.450€', '19.772€']"
      ]
     },
     "execution_count": 199,
     "metadata": {},
     "output_type": "execute_result"
    }
   ],
   "source": [
    "#3. En las etiquetas, extrae sólo la parte que me interesa, la que tiene el precio rebajado\n",
    "precios_rebajados=[]\n",
    "for i in lista_precios_rebajados:\n",
    "    precios_rebajados.append(i.text)\n",
    "precios_rebajados[:3]"
   ]
  },
  {
   "cell_type": "code",
   "execution_count": 200,
   "metadata": {},
   "outputs": [
    {
     "data": {
      "text/plain": [
       "23363"
      ]
     },
     "execution_count": 200,
     "metadata": {},
     "output_type": "execute_result"
    }
   ],
   "source": [
    "#4a. Practico con un número para, quitarle el €, quedarme con el primer elemento(el número), reemplazar el . por nada, y convertirlo a int\n",
    "x='23.363€'\n",
    "int(x.split('€')[0].replace('.',''))"
   ]
  },
  {
   "cell_type": "code",
   "execution_count": 201,
   "metadata": {},
   "outputs": [
    {
     "data": {
      "text/plain": [
       "[12636, 19450]"
      ]
     },
     "execution_count": 201,
     "metadata": {},
     "output_type": "execute_result"
    }
   ],
   "source": [
    "#4b. Lo hago en toda la lista de números\n",
    "precios_rebajados=[int(i.split('€')[0].replace('.','')) for i in precios_rebajados]\n",
    "precios_rebajados[:2]"
   ]
  },
  {
   "cell_type": "code",
   "execution_count": 202,
   "metadata": {},
   "outputs": [
    {
     "data": {
      "text/plain": [
       "[<span class=\"cardVehicle_spot__e6YZx\" data-test=\"span-price\">13.900€</span>,\n",
       " <span class=\"cardVehicle_spot__e6YZx\" data-test=\"span-price\">19.800€</span>]"
      ]
     },
     "execution_count": 202,
     "metadata": {},
     "output_type": "execute_result"
    }
   ],
   "source": [
    "#2. En la sopa, localiza la etiqueta que contiene los precios originales\n",
    "lista_precios_originales=sopa_coches.find_all('span', {'data-test':'span-price'})\n",
    "lista_precios_originales[:2]"
   ]
  },
  {
   "cell_type": "code",
   "execution_count": 203,
   "metadata": {},
   "outputs": [
    {
     "data": {
      "text/plain": [
       "['13.900€', '19.800€', '21.750€']"
      ]
     },
     "execution_count": 203,
     "metadata": {},
     "output_type": "execute_result"
    }
   ],
   "source": [
    "#3. En las etiquetas, extrae sólo la parte que me interesa, la que tiene los precios originales\n",
    "precios_originales=[]\n",
    "for i in lista_precios_originales:\n",
    "    precios_originales.append(i.text)\n",
    "precios_originales[:3]"
   ]
  },
  {
   "cell_type": "code",
   "execution_count": 204,
   "metadata": {},
   "outputs": [
    {
     "data": {
      "text/plain": [
       "[13900, 19800]"
      ]
     },
     "execution_count": 204,
     "metadata": {},
     "output_type": "execute_result"
    }
   ],
   "source": [
    "#4a y 4b\n",
    "precios_originales=[int(i.split('€')[0].replace('.','')) for i in precios_originales]\n",
    "precios_originales[:2]"
   ]
  },
  {
   "cell_type": "code",
   "execution_count": 205,
   "metadata": {},
   "outputs": [
    {
     "data": {
      "text/plain": [
       "[<span class=\"characteristics_elements__Mb1S_\" data-test=\"span-km\">80.729 Km</span>,\n",
       " <span class=\"characteristics_elements__Mb1S_\" data-test=\"span-km\">91.356 Km</span>]"
      ]
     },
     "execution_count": 205,
     "metadata": {},
     "output_type": "execute_result"
    }
   ],
   "source": [
    "#2. En la sopa, localiza la etiqueta que contiene los kms\n",
    "lista_km=sopa_coches.find_all('span', {'data-test':'span-km'})\n",
    "lista_km[:2]"
   ]
  },
  {
   "cell_type": "code",
   "execution_count": 206,
   "metadata": {},
   "outputs": [
    {
     "data": {
      "text/plain": [
       "['80.729 Km', '91.356 Km']"
      ]
     },
     "execution_count": 206,
     "metadata": {},
     "output_type": "execute_result"
    }
   ],
   "source": [
    "#3. En las etiquetas, extrae sólo la parte que me interesa, la que tiene los kms\n",
    "km=[]\n",
    "for i in lista_km:\n",
    "    km.append(i.text)\n",
    "km[:2]"
   ]
  },
  {
   "cell_type": "code",
   "execution_count": 207,
   "metadata": {},
   "outputs": [
    {
     "data": {
      "text/plain": [
       "[80729, 91356]"
      ]
     },
     "execution_count": 207,
     "metadata": {},
     "output_type": "execute_result"
    }
   ],
   "source": [
    "#4a y 4b\n",
    "km=[int(i.split()[0].replace('.',''))for i in km]\n",
    "km[:2]"
   ]
  },
  {
   "cell_type": "code",
   "execution_count": 208,
   "metadata": {},
   "outputs": [],
   "source": [
    "def scrape_coches_ocasion(url):\n",
    "    respuesta_coches=requests.get(url_coches)\n",
    "    print(f'La respuesta a la petición es: {respuesta_coches.status_code}')\n",
    "    if respuesta_coches.status_code != 200:\n",
    "        print(f'El motivo del fallo en la llamada fue: {respuesta_coches.reason} y el detalle del error: {respuesta_coches.text}')\n",
    "    else:\n",
    "        return None\n",
    "    \n",
    "    #1. Creo la sopa\n",
    "    sopa_coches=BeautifulSoup(respuesta_coches.content, 'html.parser')\n",
    "    \n",
    "    #2. En la sopa, localiza la etiqueta que contiene los nombres\n",
    "    lista_nombres=sopa_coches.find_all('h2', {'class':'cardVehicle_column_text__EvQkB'})\n",
    "    #2. En la sopa, localiza la etiqueta que contiene los precios rebajados\n",
    "    lista_precios_rebajados=sopa_coches.find_all('span', {'data-test':'span-finance'})\n",
    "    #2. En la sopa, localiza la etiqueta que contiene los precios originales\n",
    "    lista_precios_originales=sopa_coches.find_all('span', {'data-test':'span-price'})\n",
    "    #2. En la sopa, localiza la etiqueta que contiene los kms\n",
    "    lista_km=sopa_coches.find_all('span', {'data-test':'span-km'})\n",
    "\n",
    "    #3. En las etiquetas, extrae sólo la parte que me interesa, la que tiene el nombre del coche\n",
    "    nombres=[]\n",
    "    for i in lista_nombres:\n",
    "        nombres.append(i.text)\n",
    "    \n",
    "    precios_rebajados=[]\n",
    "    for i in lista_precios_rebajados:\n",
    "        precios_rebajados.append(i.text)\n",
    "\n",
    "    precios_originales=[]\n",
    "    for i in lista_precios_originales:\n",
    "        precios_originales.append(i.text)\n",
    "\n",
    "    km=[]\n",
    "    for i in lista_km:\n",
    "        km.append(i.text)\n",
    "\n",
    "    #para agrupar todo esto en un único diccionario, creo una lista con los values y otra con las keys:\n",
    "    lista_elementos=[nombres, precios_rebajados, precios_originales, km]\n",
    "    claves=['Coche', 'Precio Rebajado', 'Precio Original', 'Kilómetros']\n",
    "    diccionario_coches={}\n",
    "    #ahora junto ambas en un zip, que empareja el primero de los values con el primero de las keys:\n",
    "    for lista, clave in zip(lista_elementos, claves):\n",
    "        diccionario_coches[clave]=lista #en el dicionario, me creas una clave cuyo nombre sea 'coche', 'precio rebajado', etc, y cuyo value sea el valor de la lista que estoy iterando\n",
    "\n",
    "    return diccionario_coches"
   ]
  },
  {
   "cell_type": "code",
   "execution_count": 209,
   "metadata": {},
   "outputs": [
    {
     "name": "stdout",
     "output_type": "stream",
     "text": [
      "La respuesta a la petición es: 200\n"
     ]
    }
   ],
   "source": [
    "scrape_coches_ocasion(url_coches)"
   ]
  },
  {
   "cell_type": "code",
   "execution_count": 210,
   "metadata": {},
   "outputs": [],
   "source": [
    "#no necesitaremos crear el diccionario anterior todo el rato, así que podemos sustituirlo por el siguiente, en el que se va añadiendo la info de los precios, kms, etc al diccionario que ponemos en el nombre de la función\n",
    "def scrape_coches_ocasion2(url, diccionario_resultados):\n",
    "    respuesta_coches=requests.get(url_coches)\n",
    "    print(f'La respuesta a la petición es: {respuesta_coches.status_code}')\n",
    "    if respuesta_coches.status_code != 200:\n",
    "        print(f'El motivo del fallo en la llamada fue: {respuesta_coches.reason} y el detalle del error: {respuesta_coches.text}')\n",
    "    else:\n",
    "        None\n",
    "    \n",
    "    #1. Creo la sopa\n",
    "    sopa_coches=BeautifulSoup(respuesta_coches.content, 'html.parser')\n",
    "    \n",
    "    #2. En la sopa, localiza la etiqueta que contiene los nombres\n",
    "    lista_nombres=sopa_coches.find_all('h2', {'class':'cardVehicle_column_text__EvQkB'})\n",
    "    #2. En la sopa, localiza la etiqueta que contiene los precios rebajados\n",
    "    lista_precios_rebajados=sopa_coches.find_all('span', {'data-test':'span-finance'})\n",
    "    #2. En la sopa, localiza la etiqueta que contiene los precios originales\n",
    "    lista_precios_originales=sopa_coches.find_all('span', {'data-test':'span-price'})\n",
    "    #2. En la sopa, localiza la etiqueta que contiene los kms\n",
    "    lista_km=sopa_coches.find_all('span', {'data-test':'span-km'})\n",
    "\n",
    "    #3. En las etiquetas, extrae sólo la parte que me interesa, la que tiene el nombre del coche\n",
    "    nombres=[]\n",
    "    for i in lista_nombres:\n",
    "        nombres.append(i.text)\n",
    "    \n",
    "    precios_rebajados=[]\n",
    "    for i in lista_precios_rebajados:\n",
    "        precios_rebajados.append(i.text)\n",
    "\n",
    "    precios_originales=[]\n",
    "    for i in lista_precios_originales:\n",
    "        precios_originales.append(i.text)\n",
    "\n",
    "    km=[]\n",
    "    for i in lista_km:\n",
    "        km.append(i.text)\n",
    "\n",
    "    #no necesitaremos crear el diccionario anterior todo el rato, así que podemos sustituirlo por el siguiente, en el que se va añadiendo la info de los precios, kms, etc al diccionario que ponemos en el nombre de la función:\n",
    "    diccionario_resultados['Coche'].extend(nombres)\n",
    "    diccionario_resultados['Precio Rebajado'].extend(precios_rebajados)\n",
    "    diccionario_resultados['Precio Original'].extend(precios_originales)\n",
    "    diccionario_resultados['Kilómetros'].extend(km)\n",
    "\n",
    "    return diccionario_resultados"
   ]
  },
  {
   "cell_type": "code",
   "execution_count": 211,
   "metadata": {},
   "outputs": [
    {
     "name": "stdout",
     "output_type": "stream",
     "text": [
      "La respuesta a la petición es: 200\n"
     ]
    }
   ],
   "source": [
    "diccionario_coches2= {'Coche':[], 'Precio Rebajado':[], 'Precio Original':[], 'Kilómetros':[]}\n",
    "diccionario_coches2=scrape_coches_ocasion2(url_coches, diccionario_coches2)"
   ]
  },
  {
   "cell_type": "code",
   "execution_count": 212,
   "metadata": {},
   "outputs": [
    {
     "data": {
      "text/plain": [
       "18"
      ]
     },
     "execution_count": 212,
     "metadata": {},
     "output_type": "execute_result"
    }
   ],
   "source": [
    "len(diccionario_coches2['Precio Original'])"
   ]
  },
  {
   "cell_type": "code",
   "execution_count": 213,
   "metadata": {},
   "outputs": [],
   "source": [
    "#limitamos nuestra tabla para los 5 primeros resultados (no sabemos cómo rellenar espacios en blanco para crear DataFrame, ya que algunos coches no tienen el precio original)\n",
    "diccionario_coches2 = {key: values[:5] for key, values in diccionario_coches2.items()}"
   ]
  },
  {
   "cell_type": "code",
   "execution_count": 214,
   "metadata": {},
   "outputs": [
    {
     "data": {
      "text/html": [
       "<div>\n",
       "<style scoped>\n",
       "    .dataframe tbody tr th:only-of-type {\n",
       "        vertical-align: middle;\n",
       "    }\n",
       "\n",
       "    .dataframe tbody tr th {\n",
       "        vertical-align: top;\n",
       "    }\n",
       "\n",
       "    .dataframe thead th {\n",
       "        text-align: right;\n",
       "    }\n",
       "</style>\n",
       "<table border=\"1\" class=\"dataframe\">\n",
       "  <thead>\n",
       "    <tr style=\"text-align: right;\">\n",
       "      <th></th>\n",
       "      <th>Coche</th>\n",
       "      <th>Precio Rebajado</th>\n",
       "      <th>Precio Original</th>\n",
       "      <th>Kilómetros</th>\n",
       "    </tr>\n",
       "  </thead>\n",
       "  <tbody>\n",
       "    <tr>\n",
       "      <th>0</th>\n",
       "      <td>SsangYong KorandoD22T Line 4x2 131 kW (178 CV)</td>\n",
       "      <td>12.636€</td>\n",
       "      <td>13.900€</td>\n",
       "      <td>80.729 Km</td>\n",
       "    </tr>\n",
       "    <tr>\n",
       "      <th>1</th>\n",
       "      <td>Volkswagen Tiguan2.0 TDI BMT DSG 4X4 AUTO (140...</td>\n",
       "      <td>19.450€</td>\n",
       "      <td>19.800€</td>\n",
       "      <td>91.356 Km</td>\n",
       "    </tr>\n",
       "    <tr>\n",
       "      <th>2</th>\n",
       "      <td>Audi A62.0 TDI S tronic AUTO (190 CV) Pack S line</td>\n",
       "      <td>19.772€</td>\n",
       "      <td>21.750€</td>\n",
       "      <td>150.167 Km</td>\n",
       "    </tr>\n",
       "    <tr>\n",
       "      <th>3</th>\n",
       "      <td>Skoda Octavia1.5 TSI Ambition (150 CV)</td>\n",
       "      <td>17.909€</td>\n",
       "      <td>19.700€</td>\n",
       "      <td>82.372 Km</td>\n",
       "    </tr>\n",
       "    <tr>\n",
       "      <th>4</th>\n",
       "      <td>BMW Serie 2 Gran Tourer220d Gran Tourer (190 C...</td>\n",
       "      <td>17.718€</td>\n",
       "      <td>19.490€</td>\n",
       "      <td>156.350 Km</td>\n",
       "    </tr>\n",
       "  </tbody>\n",
       "</table>\n",
       "</div>"
      ],
      "text/plain": [
       "                                               Coche Precio Rebajado  \\\n",
       "0     SsangYong KorandoD22T Line 4x2 131 kW (178 CV)         12.636€   \n",
       "1  Volkswagen Tiguan2.0 TDI BMT DSG 4X4 AUTO (140...         19.450€   \n",
       "2  Audi A62.0 TDI S tronic AUTO (190 CV) Pack S line         19.772€   \n",
       "3             Skoda Octavia1.5 TSI Ambition (150 CV)         17.909€   \n",
       "4  BMW Serie 2 Gran Tourer220d Gran Tourer (190 C...         17.718€   \n",
       "\n",
       "  Precio Original  Kilómetros  \n",
       "0         13.900€   80.729 Km  \n",
       "1         19.800€   91.356 Km  \n",
       "2         21.750€  150.167 Km  \n",
       "3         19.700€   82.372 Km  \n",
       "4         19.490€  156.350 Km  "
      ]
     },
     "execution_count": 214,
     "metadata": {},
     "output_type": "execute_result"
    }
   ],
   "source": [
    "df_coches=pd.DataFrame(diccionario_coches2)\n",
    "df_coches[:5]"
   ]
  }
 ],
 "metadata": {
  "kernelspec": {
   "display_name": "base",
   "language": "python",
   "name": "python3"
  },
  "language_info": {
   "codemirror_mode": {
    "name": "ipython",
    "version": 3
   },
   "file_extension": ".py",
   "mimetype": "text/x-python",
   "name": "python",
   "nbconvert_exporter": "python",
   "pygments_lexer": "ipython3",
   "version": "3.9.7"
  }
 },
 "nbformat": 4,
 "nbformat_minor": 2
}
